{
 "cells": [
  {
   "cell_type": "code",
   "execution_count": 57,
   "id": "4d4c9557",
   "metadata": {},
   "outputs": [],
   "source": [
    "import pandas as pd\n",
    "import numpy as np"
   ]
  },
  {
   "cell_type": "code",
   "execution_count": 58,
   "id": "8aae1c63",
   "metadata": {},
   "outputs": [],
   "source": [
    "df = pd.read_csv(\"S16_R_1_000_000_clean.csv_test.csv\", nrows=6250)"
   ]
  },
  {
   "cell_type": "code",
   "execution_count": 59,
   "id": "091957bc",
   "metadata": {},
   "outputs": [
    {
     "data": {
      "text/html": [
       "<div>\n",
       "<style scoped>\n",
       "    .dataframe tbody tr th:only-of-type {\n",
       "        vertical-align: middle;\n",
       "    }\n",
       "\n",
       "    .dataframe tbody tr th {\n",
       "        vertical-align: top;\n",
       "    }\n",
       "\n",
       "    .dataframe thead th {\n",
       "        text-align: right;\n",
       "    }\n",
       "</style>\n",
       "<table border=\"1\" class=\"dataframe\">\n",
       "  <thead>\n",
       "    <tr style=\"text-align: right;\">\n",
       "      <th></th>\n",
       "      <th>id.orig_h</th>\n",
       "      <th>id.orig_p</th>\n",
       "      <th>id.resp_h</th>\n",
       "      <th>id.resp_p</th>\n",
       "      <th>proto</th>\n",
       "      <th>service</th>\n",
       "      <th>duration</th>\n",
       "      <th>orig_bytes</th>\n",
       "      <th>resp_bytes</th>\n",
       "      <th>conn_state</th>\n",
       "      <th>local_orig</th>\n",
       "      <th>local_resp</th>\n",
       "      <th>missed_bytes</th>\n",
       "      <th>history</th>\n",
       "      <th>orig_pkts</th>\n",
       "      <th>orig_ip_bytes</th>\n",
       "      <th>resp_pkts</th>\n",
       "      <th>resp_ip_bytes</th>\n",
       "      <th>tunnel_parents</th>\n",
       "      <th>detailed-label</th>\n",
       "    </tr>\n",
       "  </thead>\n",
       "  <tbody>\n",
       "    <tr>\n",
       "      <th>0</th>\n",
       "      <td>807.0</td>\n",
       "      <td>40146</td>\n",
       "      <td>1349307.0</td>\n",
       "      <td>22</td>\n",
       "      <td>1</td>\n",
       "      <td>0</td>\n",
       "      <td>99.000000</td>\n",
       "      <td>99</td>\n",
       "      <td>99</td>\n",
       "      <td>0</td>\n",
       "      <td>99</td>\n",
       "      <td>99</td>\n",
       "      <td>0</td>\n",
       "      <td>19.0</td>\n",
       "      <td>1</td>\n",
       "      <td>40</td>\n",
       "      <td>0</td>\n",
       "      <td>0</td>\n",
       "      <td>1.0</td>\n",
       "      <td>14</td>\n",
       "    </tr>\n",
       "    <tr>\n",
       "      <th>1</th>\n",
       "      <td>818.0</td>\n",
       "      <td>18344</td>\n",
       "      <td>1648986.0</td>\n",
       "      <td>52869</td>\n",
       "      <td>1</td>\n",
       "      <td>0</td>\n",
       "      <td>0.000002</td>\n",
       "      <td>0</td>\n",
       "      <td>0</td>\n",
       "      <td>0</td>\n",
       "      <td>99</td>\n",
       "      <td>99</td>\n",
       "      <td>0</td>\n",
       "      <td>19.0</td>\n",
       "      <td>2</td>\n",
       "      <td>80</td>\n",
       "      <td>0</td>\n",
       "      <td>0</td>\n",
       "      <td>1.0</td>\n",
       "      <td>10</td>\n",
       "    </tr>\n",
       "    <tr>\n",
       "      <th>2</th>\n",
       "      <td>818.0</td>\n",
       "      <td>40281</td>\n",
       "      <td>448897.0</td>\n",
       "      <td>23</td>\n",
       "      <td>1</td>\n",
       "      <td>0</td>\n",
       "      <td>99.000000</td>\n",
       "      <td>99</td>\n",
       "      <td>99</td>\n",
       "      <td>0</td>\n",
       "      <td>99</td>\n",
       "      <td>99</td>\n",
       "      <td>0</td>\n",
       "      <td>19.0</td>\n",
       "      <td>1</td>\n",
       "      <td>40</td>\n",
       "      <td>0</td>\n",
       "      <td>0</td>\n",
       "      <td>0.0</td>\n",
       "      <td>14</td>\n",
       "    </tr>\n",
       "    <tr>\n",
       "      <th>3</th>\n",
       "      <td>807.0</td>\n",
       "      <td>58182</td>\n",
       "      <td>548564.0</td>\n",
       "      <td>22</td>\n",
       "      <td>1</td>\n",
       "      <td>0</td>\n",
       "      <td>99.000000</td>\n",
       "      <td>99</td>\n",
       "      <td>99</td>\n",
       "      <td>0</td>\n",
       "      <td>99</td>\n",
       "      <td>99</td>\n",
       "      <td>0</td>\n",
       "      <td>19.0</td>\n",
       "      <td>1</td>\n",
       "      <td>40</td>\n",
       "      <td>0</td>\n",
       "      <td>0</td>\n",
       "      <td>1.0</td>\n",
       "      <td>14</td>\n",
       "    </tr>\n",
       "    <tr>\n",
       "      <th>4</th>\n",
       "      <td>810.0</td>\n",
       "      <td>63420</td>\n",
       "      <td>558619.0</td>\n",
       "      <td>23</td>\n",
       "      <td>1</td>\n",
       "      <td>0</td>\n",
       "      <td>0.000006</td>\n",
       "      <td>0</td>\n",
       "      <td>0</td>\n",
       "      <td>0</td>\n",
       "      <td>99</td>\n",
       "      <td>99</td>\n",
       "      <td>0</td>\n",
       "      <td>19.0</td>\n",
       "      <td>2</td>\n",
       "      <td>80</td>\n",
       "      <td>0</td>\n",
       "      <td>0</td>\n",
       "      <td>1.0</td>\n",
       "      <td>14</td>\n",
       "    </tr>\n",
       "  </tbody>\n",
       "</table>\n",
       "</div>"
      ],
      "text/plain": [
       "   id.orig_h  id.orig_p  id.resp_h  id.resp_p  proto  service   duration  \\\n",
       "0      807.0      40146  1349307.0         22      1        0  99.000000   \n",
       "1      818.0      18344  1648986.0      52869      1        0   0.000002   \n",
       "2      818.0      40281   448897.0         23      1        0  99.000000   \n",
       "3      807.0      58182   548564.0         22      1        0  99.000000   \n",
       "4      810.0      63420   558619.0         23      1        0   0.000006   \n",
       "\n",
       "   orig_bytes  resp_bytes  conn_state  local_orig  local_resp  missed_bytes  \\\n",
       "0          99          99           0          99          99             0   \n",
       "1           0           0           0          99          99             0   \n",
       "2          99          99           0          99          99             0   \n",
       "3          99          99           0          99          99             0   \n",
       "4           0           0           0          99          99             0   \n",
       "\n",
       "   history  orig_pkts  orig_ip_bytes  resp_pkts  resp_ip_bytes  \\\n",
       "0     19.0          1             40          0              0   \n",
       "1     19.0          2             80          0              0   \n",
       "2     19.0          1             40          0              0   \n",
       "3     19.0          1             40          0              0   \n",
       "4     19.0          2             80          0              0   \n",
       "\n",
       "   tunnel_parents  detailed-label  \n",
       "0             1.0              14  \n",
       "1             1.0              10  \n",
       "2             0.0              14  \n",
       "3             1.0              14  \n",
       "4             1.0              14  "
      ]
     },
     "execution_count": 59,
     "metadata": {},
     "output_type": "execute_result"
    }
   ],
   "source": [
    "df.head(5)"
   ]
  },
  {
   "cell_type": "code",
   "execution_count": 60,
   "id": "c24ca3c4",
   "metadata": {},
   "outputs": [],
   "source": [
    "#df = df.drop(\"Unnamed: 0\", axis=1)"
   ]
  },
  {
   "cell_type": "code",
   "execution_count": 61,
   "id": "5650c844",
   "metadata": {},
   "outputs": [],
   "source": [
    "y = df.iloc[:,-1]"
   ]
  },
  {
   "cell_type": "code",
   "execution_count": 62,
   "id": "c5891a65",
   "metadata": {},
   "outputs": [
    {
     "data": {
      "text/plain": [
       "(6250,)"
      ]
     },
     "execution_count": 62,
     "metadata": {},
     "output_type": "execute_result"
    }
   ],
   "source": [
    "y.shape"
   ]
  },
  {
   "cell_type": "code",
   "execution_count": 63,
   "id": "6ba6785b",
   "metadata": {},
   "outputs": [
    {
     "data": {
      "text/plain": [
       "0     1578\n",
       "12    1554\n",
       "14    1525\n",
       "10    1489\n",
       "4       42\n",
       "2       39\n",
       "1       19\n",
       "8        2\n",
       "5        2\n",
       "Name: detailed-label, dtype: int64"
      ]
     },
     "execution_count": 63,
     "metadata": {},
     "output_type": "execute_result"
    }
   ],
   "source": [
    "y.value_counts()"
   ]
  },
  {
   "cell_type": "code",
   "execution_count": 64,
   "id": "b89ae345",
   "metadata": {},
   "outputs": [],
   "source": [
    "X = df.iloc[:,:-1]"
   ]
  },
  {
   "cell_type": "code",
   "execution_count": 65,
   "id": "ef37ffbb",
   "metadata": {},
   "outputs": [
    {
     "data": {
      "text/plain": [
       "(6250, 19)"
      ]
     },
     "execution_count": 65,
     "metadata": {},
     "output_type": "execute_result"
    }
   ],
   "source": [
    "X.shape"
   ]
  },
  {
   "cell_type": "code",
   "execution_count": 66,
   "id": "a368ce45",
   "metadata": {},
   "outputs": [],
   "source": [
    "from sklearn.preprocessing import StandardScaler\n",
    "sc = StandardScaler()\n",
    "X = sc.fit_transform(X)"
   ]
  },
  {
   "cell_type": "code",
   "execution_count": 67,
   "id": "f1db377b",
   "metadata": {},
   "outputs": [],
   "source": [
    "X = pd.DataFrame(X)"
   ]
  },
  {
   "cell_type": "code",
   "execution_count": 68,
   "id": "114f577a",
   "metadata": {},
   "outputs": [
    {
     "data": {
      "text/html": [
       "<div>\n",
       "<style scoped>\n",
       "    .dataframe tbody tr th:only-of-type {\n",
       "        vertical-align: middle;\n",
       "    }\n",
       "\n",
       "    .dataframe tbody tr th {\n",
       "        vertical-align: top;\n",
       "    }\n",
       "\n",
       "    .dataframe thead th {\n",
       "        text-align: right;\n",
       "    }\n",
       "</style>\n",
       "<table border=\"1\" class=\"dataframe\">\n",
       "  <thead>\n",
       "    <tr style=\"text-align: right;\">\n",
       "      <th></th>\n",
       "      <th>0</th>\n",
       "      <th>1</th>\n",
       "      <th>2</th>\n",
       "      <th>3</th>\n",
       "      <th>4</th>\n",
       "      <th>5</th>\n",
       "      <th>6</th>\n",
       "      <th>7</th>\n",
       "      <th>8</th>\n",
       "      <th>9</th>\n",
       "      <th>10</th>\n",
       "      <th>11</th>\n",
       "      <th>12</th>\n",
       "      <th>13</th>\n",
       "      <th>14</th>\n",
       "      <th>15</th>\n",
       "      <th>16</th>\n",
       "      <th>17</th>\n",
       "      <th>18</th>\n",
       "    </tr>\n",
       "  </thead>\n",
       "  <tbody>\n",
       "    <tr>\n",
       "      <th>0</th>\n",
       "      <td>-0.294244</td>\n",
       "      <td>0.483882</td>\n",
       "      <td>-0.464972</td>\n",
       "      <td>-1.015840</td>\n",
       "      <td>-0.064972</td>\n",
       "      <td>-0.05273</td>\n",
       "      <td>0.714793</td>\n",
       "      <td>-0.025105</td>\n",
       "      <td>0.327781</td>\n",
       "      <td>-0.281957</td>\n",
       "      <td>0.0</td>\n",
       "      <td>0.0</td>\n",
       "      <td>0.0</td>\n",
       "      <td>0.01119</td>\n",
       "      <td>-0.090469</td>\n",
       "      <td>-0.091261</td>\n",
       "      <td>-0.060572</td>\n",
       "      <td>-0.051556</td>\n",
       "      <td>0.247261</td>\n",
       "    </tr>\n",
       "    <tr>\n",
       "      <th>1</th>\n",
       "      <td>0.286623</td>\n",
       "      <td>-0.908349</td>\n",
       "      <td>-0.179403</td>\n",
       "      <td>1.242534</td>\n",
       "      <td>-0.064972</td>\n",
       "      <td>-0.05273</td>\n",
       "      <td>-1.361002</td>\n",
       "      <td>-0.025105</td>\n",
       "      <td>-0.723823</td>\n",
       "      <td>-0.281957</td>\n",
       "      <td>0.0</td>\n",
       "      <td>0.0</td>\n",
       "      <td>0.0</td>\n",
       "      <td>0.01119</td>\n",
       "      <td>0.023944</td>\n",
       "      <td>-0.005724</td>\n",
       "      <td>-0.060572</td>\n",
       "      <td>-0.051556</td>\n",
       "      <td>0.247261</td>\n",
       "    </tr>\n",
       "    <tr>\n",
       "      <th>2</th>\n",
       "      <td>0.286623</td>\n",
       "      <td>0.492502</td>\n",
       "      <td>-1.322988</td>\n",
       "      <td>-1.015797</td>\n",
       "      <td>-0.064972</td>\n",
       "      <td>-0.05273</td>\n",
       "      <td>0.714793</td>\n",
       "      <td>-0.025105</td>\n",
       "      <td>0.327781</td>\n",
       "      <td>-0.281957</td>\n",
       "      <td>0.0</td>\n",
       "      <td>0.0</td>\n",
       "      <td>0.0</td>\n",
       "      <td>0.01119</td>\n",
       "      <td>-0.090469</td>\n",
       "      <td>-0.091261</td>\n",
       "      <td>-0.060572</td>\n",
       "      <td>-0.051556</td>\n",
       "      <td>-3.975091</td>\n",
       "    </tr>\n",
       "    <tr>\n",
       "      <th>3</th>\n",
       "      <td>-0.294244</td>\n",
       "      <td>1.635623</td>\n",
       "      <td>-1.228014</td>\n",
       "      <td>-1.015840</td>\n",
       "      <td>-0.064972</td>\n",
       "      <td>-0.05273</td>\n",
       "      <td>0.714793</td>\n",
       "      <td>-0.025105</td>\n",
       "      <td>0.327781</td>\n",
       "      <td>-0.281957</td>\n",
       "      <td>0.0</td>\n",
       "      <td>0.0</td>\n",
       "      <td>0.0</td>\n",
       "      <td>0.01119</td>\n",
       "      <td>-0.090469</td>\n",
       "      <td>-0.091261</td>\n",
       "      <td>-0.060572</td>\n",
       "      <td>-0.051556</td>\n",
       "      <td>0.247261</td>\n",
       "    </tr>\n",
       "    <tr>\n",
       "      <th>4</th>\n",
       "      <td>-0.135826</td>\n",
       "      <td>1.970111</td>\n",
       "      <td>-1.218432</td>\n",
       "      <td>-1.015797</td>\n",
       "      <td>-0.064972</td>\n",
       "      <td>-0.05273</td>\n",
       "      <td>-1.361002</td>\n",
       "      <td>-0.025105</td>\n",
       "      <td>-0.723823</td>\n",
       "      <td>-0.281957</td>\n",
       "      <td>0.0</td>\n",
       "      <td>0.0</td>\n",
       "      <td>0.0</td>\n",
       "      <td>0.01119</td>\n",
       "      <td>0.023944</td>\n",
       "      <td>-0.005724</td>\n",
       "      <td>-0.060572</td>\n",
       "      <td>-0.051556</td>\n",
       "      <td>0.247261</td>\n",
       "    </tr>\n",
       "  </tbody>\n",
       "</table>\n",
       "</div>"
      ],
      "text/plain": [
       "         0         1         2         3         4        5         6   \\\n",
       "0 -0.294244  0.483882 -0.464972 -1.015840 -0.064972 -0.05273  0.714793   \n",
       "1  0.286623 -0.908349 -0.179403  1.242534 -0.064972 -0.05273 -1.361002   \n",
       "2  0.286623  0.492502 -1.322988 -1.015797 -0.064972 -0.05273  0.714793   \n",
       "3 -0.294244  1.635623 -1.228014 -1.015840 -0.064972 -0.05273  0.714793   \n",
       "4 -0.135826  1.970111 -1.218432 -1.015797 -0.064972 -0.05273 -1.361002   \n",
       "\n",
       "         7         8         9    10   11   12       13        14        15  \\\n",
       "0 -0.025105  0.327781 -0.281957  0.0  0.0  0.0  0.01119 -0.090469 -0.091261   \n",
       "1 -0.025105 -0.723823 -0.281957  0.0  0.0  0.0  0.01119  0.023944 -0.005724   \n",
       "2 -0.025105  0.327781 -0.281957  0.0  0.0  0.0  0.01119 -0.090469 -0.091261   \n",
       "3 -0.025105  0.327781 -0.281957  0.0  0.0  0.0  0.01119 -0.090469 -0.091261   \n",
       "4 -0.025105 -0.723823 -0.281957  0.0  0.0  0.0  0.01119  0.023944 -0.005724   \n",
       "\n",
       "         16        17        18  \n",
       "0 -0.060572 -0.051556  0.247261  \n",
       "1 -0.060572 -0.051556  0.247261  \n",
       "2 -0.060572 -0.051556 -3.975091  \n",
       "3 -0.060572 -0.051556  0.247261  \n",
       "4 -0.060572 -0.051556  0.247261  "
      ]
     },
     "execution_count": 68,
     "metadata": {},
     "output_type": "execute_result"
    }
   ],
   "source": [
    "X.head()"
   ]
  },
  {
   "cell_type": "code",
   "execution_count": 69,
   "id": "300f2e25",
   "metadata": {},
   "outputs": [],
   "source": [
    "#from sklearn.preprocessing import LabelEncoder\n",
    "#le = LabelEncoder()\n",
    "#y = le.fit_transform(y)"
   ]
  },
  {
   "cell_type": "code",
   "execution_count": 70,
   "id": "d8c866ca",
   "metadata": {},
   "outputs": [
    {
     "data": {
      "text/plain": [
       "0       14\n",
       "1       10\n",
       "2       14\n",
       "3       14\n",
       "4       14\n",
       "        ..\n",
       "6245    12\n",
       "6246    12\n",
       "6247    14\n",
       "6248    12\n",
       "6249     0\n",
       "Name: detailed-label, Length: 6250, dtype: int64"
      ]
     },
     "execution_count": 70,
     "metadata": {},
     "output_type": "execute_result"
    }
   ],
   "source": [
    "y"
   ]
  },
  {
   "cell_type": "code",
   "execution_count": 71,
   "id": "0f33fd50",
   "metadata": {},
   "outputs": [
    {
     "data": {
      "text/plain": [
       "(6250,)"
      ]
     },
     "execution_count": 71,
     "metadata": {},
     "output_type": "execute_result"
    }
   ],
   "source": [
    "y.shape"
   ]
  },
  {
   "cell_type": "code",
   "execution_count": 72,
   "id": "98248307",
   "metadata": {},
   "outputs": [],
   "source": [
    "from sklearn.model_selection import train_test_split\n",
    "X_train, X_test, y_train, y_test = train_test_split(X,y, train_size=0.8, test_size=0.2, random_state=0)"
   ]
  },
  {
   "cell_type": "code",
   "execution_count": 73,
   "id": "c14f9441",
   "metadata": {},
   "outputs": [],
   "source": [
    "# sau khi chia du lieu test train thi can chuyen du lieu train thanh dang ham thuoc X_train -> U_train, X_test -> U_test"
   ]
  },
  {
   "cell_type": "code",
   "execution_count": 74,
   "id": "53e494c2",
   "metadata": {},
   "outputs": [],
   "source": [
    "#X_train.to_csv(\"X_train.csv\",header=False, index=False)\n",
    "#X_test.to_csv(\"X_test.csv\",header=False, index=False) "
   ]
  },
  {
   "cell_type": "code",
   "execution_count": 75,
   "id": "a7884cb7",
   "metadata": {},
   "outputs": [],
   "source": [
    "# chay X_train voi GA_FCM\n",
    "# chay X_test voi Convert_data voi dau vao la cac tam cua buoc tren"
   ]
  },
  {
   "cell_type": "markdown",
   "id": "f399f0eb",
   "metadata": {},
   "source": [
    "## Sau khi chạy xong GA+FCM với X_train"
   ]
  },
  {
   "cell_type": "code",
   "execution_count": 76,
   "id": "36833707",
   "metadata": {},
   "outputs": [],
   "source": [
    "#trainset = 'U_train.txt'\n",
    "#testset = 'U_test.txt'\n",
    "\n",
    "#trainset = './Test_xong_xoa/u1.txt'\n",
    "#testset = './Test_xong_xoa/u2.txt'"
   ]
  },
  {
   "cell_type": "code",
   "execution_count": 77,
   "id": "1b5bba99",
   "metadata": {},
   "outputs": [
    {
     "name": "stderr",
     "output_type": "stream",
     "text": [
      "C:\\Users\\nhath\\AppData\\Local\\Temp\\ipykernel_7772\\1281658630.py:1: ParserWarning: Falling back to the 'python' engine because the 'c' engine does not support regex separators (separators > 1 char and different from '\\s+' are interpreted as regex); you can avoid this warning by specifying engine='python'.\n",
      "  U_train = pd.read_csv(\"U_train.csv\",sep='   ',header=None)\n",
      "C:\\Users\\nhath\\AppData\\Local\\Temp\\ipykernel_7772\\1281658630.py:2: ParserWarning: Falling back to the 'python' engine because the 'c' engine does not support regex separators (separators > 1 char and different from '\\s+' are interpreted as regex); you can avoid this warning by specifying engine='python'.\n",
      "  U_test = pd.read_csv(\"U_test.csv\",sep='   ',header=None)\n"
     ]
    }
   ],
   "source": [
    "U_train = pd.read_csv(\"U_train.csv\",sep='   ',header=None)\n",
    "U_test = pd.read_csv(\"U_test.csv\",sep='   ',header=None)"
   ]
  },
  {
   "cell_type": "code",
   "execution_count": 78,
   "id": "c47d9e58",
   "metadata": {},
   "outputs": [
    {
     "data": {
      "text/html": [
       "<div>\n",
       "<style scoped>\n",
       "    .dataframe tbody tr th:only-of-type {\n",
       "        vertical-align: middle;\n",
       "    }\n",
       "\n",
       "    .dataframe tbody tr th {\n",
       "        vertical-align: top;\n",
       "    }\n",
       "\n",
       "    .dataframe thead th {\n",
       "        text-align: right;\n",
       "    }\n",
       "</style>\n",
       "<table border=\"1\" class=\"dataframe\">\n",
       "  <thead>\n",
       "    <tr style=\"text-align: right;\">\n",
       "      <th></th>\n",
       "      <th>0</th>\n",
       "      <th>1</th>\n",
       "      <th>2</th>\n",
       "      <th>3</th>\n",
       "      <th>4</th>\n",
       "      <th>5</th>\n",
       "      <th>6</th>\n",
       "      <th>7</th>\n",
       "      <th>8</th>\n",
       "      <th>9</th>\n",
       "      <th>...</th>\n",
       "      <th>4990</th>\n",
       "      <th>4991</th>\n",
       "      <th>4992</th>\n",
       "      <th>4993</th>\n",
       "      <th>4994</th>\n",
       "      <th>4995</th>\n",
       "      <th>4996</th>\n",
       "      <th>4997</th>\n",
       "      <th>4998</th>\n",
       "      <th>4999</th>\n",
       "    </tr>\n",
       "  </thead>\n",
       "  <tbody>\n",
       "    <tr>\n",
       "      <th>0</th>\n",
       "      <td>0.298140</td>\n",
       "      <td>0.163525</td>\n",
       "      <td>0.043468</td>\n",
       "      <td>0.104059</td>\n",
       "      <td>0.183664</td>\n",
       "      <td>0.284438</td>\n",
       "      <td>0.844555</td>\n",
       "      <td>0.707979</td>\n",
       "      <td>0.037437</td>\n",
       "      <td>0.189486</td>\n",
       "      <td>...</td>\n",
       "      <td>0.310708</td>\n",
       "      <td>0.171253</td>\n",
       "      <td>0.240752</td>\n",
       "      <td>0.196809</td>\n",
       "      <td>0.173406</td>\n",
       "      <td>0.133630</td>\n",
       "      <td>0.031403</td>\n",
       "      <td>0.715055</td>\n",
       "      <td>0.037422</td>\n",
       "      <td>0.122466</td>\n",
       "    </tr>\n",
       "    <tr>\n",
       "      <th>1</th>\n",
       "      <td>0.098361</td>\n",
       "      <td>0.202113</td>\n",
       "      <td>0.033929</td>\n",
       "      <td>0.340529</td>\n",
       "      <td>0.609816</td>\n",
       "      <td>0.097062</td>\n",
       "      <td>0.041278</td>\n",
       "      <td>0.126191</td>\n",
       "      <td>0.882693</td>\n",
       "      <td>0.171326</td>\n",
       "      <td>...</td>\n",
       "      <td>0.099138</td>\n",
       "      <td>0.313141</td>\n",
       "      <td>0.172101</td>\n",
       "      <td>0.273013</td>\n",
       "      <td>0.186557</td>\n",
       "      <td>0.260193</td>\n",
       "      <td>0.039255</td>\n",
       "      <td>0.113728</td>\n",
       "      <td>0.048585</td>\n",
       "      <td>0.094892</td>\n",
       "    </tr>\n",
       "    <tr>\n",
       "      <th>2</th>\n",
       "      <td>0.094877</td>\n",
       "      <td>0.210263</td>\n",
       "      <td>0.413672</td>\n",
       "      <td>0.113376</td>\n",
       "      <td>0.038726</td>\n",
       "      <td>0.091565</td>\n",
       "      <td>0.025028</td>\n",
       "      <td>0.032944</td>\n",
       "      <td>0.016777</td>\n",
       "      <td>0.217792</td>\n",
       "      <td>...</td>\n",
       "      <td>0.106895</td>\n",
       "      <td>0.169882</td>\n",
       "      <td>0.240292</td>\n",
       "      <td>0.186222</td>\n",
       "      <td>0.214899</td>\n",
       "      <td>0.118751</td>\n",
       "      <td>0.267080</td>\n",
       "      <td>0.033952</td>\n",
       "      <td>0.278225</td>\n",
       "      <td>0.126931</td>\n",
       "    </tr>\n",
       "    <tr>\n",
       "      <th>3</th>\n",
       "      <td>0.078136</td>\n",
       "      <td>0.208728</td>\n",
       "      <td>0.446075</td>\n",
       "      <td>0.115324</td>\n",
       "      <td>0.033240</td>\n",
       "      <td>0.075485</td>\n",
       "      <td>0.019584</td>\n",
       "      <td>0.026998</td>\n",
       "      <td>0.014997</td>\n",
       "      <td>0.204219</td>\n",
       "      <td>...</td>\n",
       "      <td>0.087298</td>\n",
       "      <td>0.162807</td>\n",
       "      <td>0.183308</td>\n",
       "      <td>0.164744</td>\n",
       "      <td>0.207483</td>\n",
       "      <td>0.121269</td>\n",
       "      <td>0.604320</td>\n",
       "      <td>0.026734</td>\n",
       "      <td>0.566458</td>\n",
       "      <td>0.116324</td>\n",
       "    </tr>\n",
       "    <tr>\n",
       "      <th>4</th>\n",
       "      <td>0.430486</td>\n",
       "      <td>0.215371</td>\n",
       "      <td>0.062855</td>\n",
       "      <td>0.326711</td>\n",
       "      <td>0.134554</td>\n",
       "      <td>0.451450</td>\n",
       "      <td>0.069554</td>\n",
       "      <td>0.105887</td>\n",
       "      <td>0.048096</td>\n",
       "      <td>0.217177</td>\n",
       "      <td>...</td>\n",
       "      <td>0.395962</td>\n",
       "      <td>0.182916</td>\n",
       "      <td>0.163547</td>\n",
       "      <td>0.179211</td>\n",
       "      <td>0.217655</td>\n",
       "      <td>0.366157</td>\n",
       "      <td>0.057942</td>\n",
       "      <td>0.110531</td>\n",
       "      <td>0.069310</td>\n",
       "      <td>0.539388</td>\n",
       "    </tr>\n",
       "  </tbody>\n",
       "</table>\n",
       "<p>5 rows × 5000 columns</p>\n",
       "</div>"
      ],
      "text/plain": [
       "       0         1         2         3         4         5         6     \\\n",
       "0  0.298140  0.163525  0.043468  0.104059  0.183664  0.284438  0.844555   \n",
       "1  0.098361  0.202113  0.033929  0.340529  0.609816  0.097062  0.041278   \n",
       "2  0.094877  0.210263  0.413672  0.113376  0.038726  0.091565  0.025028   \n",
       "3  0.078136  0.208728  0.446075  0.115324  0.033240  0.075485  0.019584   \n",
       "4  0.430486  0.215371  0.062855  0.326711  0.134554  0.451450  0.069554   \n",
       "\n",
       "       7         8         9     ...      4990      4991      4992      4993  \\\n",
       "0  0.707979  0.037437  0.189486  ...  0.310708  0.171253  0.240752  0.196809   \n",
       "1  0.126191  0.882693  0.171326  ...  0.099138  0.313141  0.172101  0.273013   \n",
       "2  0.032944  0.016777  0.217792  ...  0.106895  0.169882  0.240292  0.186222   \n",
       "3  0.026998  0.014997  0.204219  ...  0.087298  0.162807  0.183308  0.164744   \n",
       "4  0.105887  0.048096  0.217177  ...  0.395962  0.182916  0.163547  0.179211   \n",
       "\n",
       "       4994      4995      4996      4997      4998      4999  \n",
       "0  0.173406  0.133630  0.031403  0.715055  0.037422  0.122466  \n",
       "1  0.186557  0.260193  0.039255  0.113728  0.048585  0.094892  \n",
       "2  0.214899  0.118751  0.267080  0.033952  0.278225  0.126931  \n",
       "3  0.207483  0.121269  0.604320  0.026734  0.566458  0.116324  \n",
       "4  0.217655  0.366157  0.057942  0.110531  0.069310  0.539388  \n",
       "\n",
       "[5 rows x 5000 columns]"
      ]
     },
     "execution_count": 78,
     "metadata": {},
     "output_type": "execute_result"
    }
   ],
   "source": [
    "U_train.head(5)"
   ]
  },
  {
   "cell_type": "code",
   "execution_count": 79,
   "id": "c8d0d909",
   "metadata": {},
   "outputs": [
    {
     "data": {
      "text/plain": [
       "(5, 5000)"
      ]
     },
     "execution_count": 79,
     "metadata": {},
     "output_type": "execute_result"
    }
   ],
   "source": [
    "U_train.shape"
   ]
  },
  {
   "cell_type": "code",
   "execution_count": 80,
   "id": "0c4644d5",
   "metadata": {},
   "outputs": [
    {
     "data": {
      "text/plain": [
       "(5, 1250)"
      ]
     },
     "execution_count": 80,
     "metadata": {},
     "output_type": "execute_result"
    }
   ],
   "source": [
    "U_test.shape"
   ]
  },
  {
   "cell_type": "code",
   "execution_count": 81,
   "id": "608f2548",
   "metadata": {},
   "outputs": [],
   "source": [
    "U_train = U_train.values.T\n",
    "U_test = U_test.values.T"
   ]
  },
  {
   "cell_type": "code",
   "execution_count": 82,
   "id": "4f16957b",
   "metadata": {},
   "outputs": [],
   "source": [
    "from sklearn.ensemble import RandomForestClassifier\n",
    "import time\n",
    "RF = RandomForestClassifier()"
   ]
  },
  {
   "cell_type": "code",
   "execution_count": 83,
   "id": "b5da323e",
   "metadata": {
    "scrolled": true
   },
   "outputs": [
    {
     "name": "stdout",
     "output_type": "stream",
     "text": [
      "program start...\n",
      "\n",
      "\n",
      "prediction:\n",
      "[10 10 10 ... 10 12 12]\n",
      "\n",
      "Score:\n",
      "0.8936\n",
      "program end...\n",
      "\n",
      "time cost: \n",
      "0.8204715251922607 seconds\n"
     ]
    }
   ],
   "source": [
    "start = time.time()\n",
    "print('program start...')\n",
    "print()\n",
    "\n",
    "#fit training data into model\n",
    "RF.fit(U_train, y_train)\n",
    "print()\n",
    "\n",
    "print('prediction:')\n",
    "y_pred = RF.predict(U_test)\n",
    "print(y_pred)\n",
    "print()\n",
    "\n",
    "print('Score:')\n",
    "score = RF.score(U_test,y_test)\n",
    "print(score)\n",
    "\n",
    "end = time.time()\n",
    "print('program end...')\n",
    "print()\n",
    "print('time cost: ')\n",
    "print(end - start, 'seconds')"
   ]
  },
  {
   "cell_type": "code",
   "execution_count": 84,
   "id": "f61a5d31",
   "metadata": {},
   "outputs": [
    {
     "name": "stdout",
     "output_type": "stream",
     "text": [
      "              precision    recall  f1-score   support\n",
      "\n",
      "           0       0.78      0.80      0.79       307\n",
      "           1       0.83      1.00      0.91         5\n",
      "           2       1.00      1.00      1.00         5\n",
      "           4       1.00      0.44      0.62         9\n",
      "          10       1.00      0.99      0.99       301\n",
      "          12       1.00      1.00      1.00       328\n",
      "          14       0.79      0.79      0.79       295\n",
      "\n",
      "    accuracy                           0.89      1250\n",
      "   macro avg       0.91      0.86      0.87      1250\n",
      "weighted avg       0.90      0.89      0.89      1250\n",
      "\n"
     ]
    }
   ],
   "source": [
    "from sklearn.metrics import classification_report, confusion_matrix\n",
    "print(classification_report(y_test, y_pred))"
   ]
  },
  {
   "cell_type": "code",
   "execution_count": null,
   "id": "4268d437",
   "metadata": {},
   "outputs": [],
   "source": []
  },
  {
   "cell_type": "code",
   "execution_count": null,
   "id": "68b4aa9a",
   "metadata": {},
   "outputs": [],
   "source": []
  },
  {
   "cell_type": "code",
   "execution_count": null,
   "id": "653c2d04",
   "metadata": {},
   "outputs": [],
   "source": []
  },
  {
   "cell_type": "code",
   "execution_count": null,
   "id": "7a14aea4",
   "metadata": {},
   "outputs": [],
   "source": []
  },
  {
   "cell_type": "code",
   "execution_count": null,
   "id": "bc490d6e",
   "metadata": {},
   "outputs": [],
   "source": []
  }
 ],
 "metadata": {
  "kernelspec": {
   "display_name": "Python 3 (ipykernel)",
   "language": "python",
   "name": "python3"
  },
  "language_info": {
   "codemirror_mode": {
    "name": "ipython",
    "version": 3
   },
   "file_extension": ".py",
   "mimetype": "text/x-python",
   "name": "python",
   "nbconvert_exporter": "python",
   "pygments_lexer": "ipython3",
   "version": "3.9.12"
  }
 },
 "nbformat": 4,
 "nbformat_minor": 5
}
